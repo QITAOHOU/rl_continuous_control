{
 "cells": [
  {
   "cell_type": "markdown",
   "metadata": {},
   "source": [
    "# Deep Deterministic Policy Gradients (DDPG)\n",
    "---\n",
    "In this notebook, we train DDPG with OpenAI Gym's BipedalWalker-v2 environment.\n",
    "\n",
    "See TD3 implementation [paper](https://arxiv.org/abs/1802.09477) and [code](https://github.com/sfujim/TD3).\n",
    "\n",
    "### 1. Import the Necessary Packages"
   ]
  },
  {
   "cell_type": "code",
   "execution_count": 1,
   "metadata": {},
   "outputs": [],
   "source": [
    "import gym\n",
    "import random\n",
    "import torch\n",
    "import numpy as np\n",
    "from collections import deque\n",
    "import matplotlib.pyplot as plt\n",
    "%matplotlib inline\n",
    "\n",
    "from TD3 import *\n",
    "from util import *"
   ]
  },
  {
   "cell_type": "markdown",
   "metadata": {},
   "source": [
    "### 2. Instantiate the Environment and Agent"
   ]
  },
  {
   "cell_type": "code",
   "execution_count": 2,
   "metadata": {},
   "outputs": [],
   "source": [
    "env_name = \"BipedalWalker-v2\"\n",
    "env = gym.make(env_name)\n",
    "env.seed(10)\n",
    "state_dim = env.observation_space.shape[0]\n",
    "action_dim = env.action_space.shape[0]\n",
    "max_action = float(env.action_space.high[0])\n",
    "exploration_noise = 0.1\n",
    "random_seed = 0\n",
    "\n",
    "policy = TD3(state_dim, action_dim, max_action)\n",
    "replay_buffer = ReplayBuffer()\n",
    "directory = f\"./models\"\n",
    "filename = f\"TD3_{env_name}_{random_seed}\""
   ]
  },
  {
   "cell_type": "markdown",
   "metadata": {},
   "source": [
    "### 3. Train the Agent with DDPG\n",
    "\n",
    "Run the code cell below to train the agent from scratch.  Alternatively, you can skip to the next code cell to load the pre-trained weights from file."
   ]
  },
  {
   "cell_type": "code",
   "execution_count": 3,
   "metadata": {},
   "outputs": [
    {
     "name": "stdout",
     "output_type": "stream",
     "text": [
      "Episode 100\tAverage Score: -60.22\tScore: -11.44\n",
      "Episode 200\tAverage Score: -54.11\tScore: -93.661\n",
      "Episode 300\tAverage Score: -43.48\tScore: -10.979\n",
      "Episode 400\tAverage Score: -49.64\tScore: -14.977\n",
      "Episode 500\tAverage Score: -70.94\tScore: -12.538\n",
      "Episode 600\tAverage Score: -53.51\tScore: -93.869\n",
      "Episode 700\tAverage Score: -53.59\tScore: -13.721\n",
      "Episode 800\tAverage Score: -63.94\tScore: -112.07\n",
      "Episode 900\tAverage Score: -48.37\tScore: -14.173\n",
      "Episode 1000\tAverage Score: -52.82\tScore: -13.38\n",
      "Episode 1100\tAverage Score: -54.54\tScore: -11.264\n",
      "Episode 1200\tAverage Score: -54.56\tScore: -122.46\n",
      "Episode 1300\tAverage Score: -56.56\tScore: -101.23\n",
      "Episode 1400\tAverage Score: -49.36\tScore: -7.8435\n",
      "Episode 1500\tAverage Score: -55.74\tScore: -118.70\n",
      "Episode 1600\tAverage Score: -51.75\tScore: -13.139\n",
      "Episode 1700\tAverage Score: -49.86\tScore: -93.293\n",
      "Episode 1800\tAverage Score: -52.30\tScore: -92.990\n",
      "Episode 1900\tAverage Score: -53.59\tScore: -13.394\n",
      "Episode 2000\tAverage Score: -55.38\tScore: -117.73\n"
     ]
    },
    {
     "data": {
      "image/png": "[encoded data removed]",
      "text/plain": [
       "<Figure size 432x288 with 1 Axes>"
      ]
     },
     "metadata": {
      "needs_background": "light"
     },
     "output_type": "display_data"
    }
   ],
   "source": [
    "def ddpg(n_episodes=2000, max_t=700):\n",
    "    \"\"\"see implementation at https://github.com/nikhilbarhate99/TD3-PyTorch-BipedalWalker-v2\"\"\"\n",
    "    scores_deque = deque(maxlen=100)\n",
    "    scores = []\n",
    "    max_score = -np.Inf\n",
    "    for i_episode in range(1, n_episodes+1):\n",
    "        state = env.reset()\n",
    "#         agent.reset()\n",
    "        score = 0\n",
    "        for t in range(max_t):\n",
    "            action = policy.select_action(state)\n",
    "            action = action + np.random.normal(0, exploration_noise, size=env.action_space.shape[0])\n",
    "            action = action.clip(env.action_space.low, env.action_space.high)\n",
    "            \n",
    "            next_state, reward, done, _ = env.step(action)\n",
    "            replay_buffer.add((state, action, reward, next_state, float(done)))\n",
    "            state = next_state\n",
    "            score += reward\n",
    "            if done:\n",
    "                break \n",
    "        scores_deque.append(score)\n",
    "        scores.append(score)\n",
    "        print('\\rEpisode {}\\tAverage Score: {:.2f}\\tScore: {:.2f}'.format(i_episode, np.mean(scores_deque), score), end=\"\")\n",
    "        if i_episode % 100 == 0:\n",
    "#             name = filename + '_solved'\n",
    "#             policy.save(directory, name)\n",
    "#             policy.\n",
    "            torch.save(policy.actor.state_dict(), '../models/checkpoint_actor.pth')\n",
    "            torch.save(policy.critic.state_dict(), '../models/checkpoint_critic.pth')\n",
    "            print('\\rEpisode {}\\tAverage Score: {:.2f}'.format(i_episode, np.mean(scores_deque)))   \n",
    "    return scores\n",
    "\n",
    "scores = ddpg()\n",
    "\n",
    "fig = plt.figure()\n",
    "ax = fig.add_subplot(111)\n",
    "plt.plot(np.arange(1, len(scores)+1), scores)\n",
    "plt.ylabel('Score')\n",
    "plt.xlabel('Episode #')\n",
    "plt.show()"
   ]
  },
  {
   "cell_type": "markdown",
   "metadata": {},
   "source": [
    "### 4. Watch a Smart Agent!\n",
    "\n",
    "In the next code cell, you will load the trained weights from file to watch a smart agent!"
   ]
  },
  {
   "cell_type": "code",
   "execution_count": 4,
   "metadata": {},
   "outputs": [],
   "source": [
    "# agent.actor.load_state_dict(torch.load('checkpoint_actor.pth'))\n",
    "# agent.critic.load_state_dict(torch.load('checkpoint_critic.pth'))\n",
    "\n",
    "# state = env.reset()\n",
    "# agent.reset()   \n",
    "# while True:\n",
    "#     action = agent.act(state)\n",
    "#     env.render()\n",
    "#     next_state, reward, done, _ = env.step(action)\n",
    "#     state = next_state\n",
    "#     if done:\n",
    "#         break\n",
    "        \n",
    "# env.close()"
   ]
  },
  {
   "cell_type": "markdown",
   "metadata": {},
   "source": [
    "### 5. Explore\n",
    "\n",
    "In this exercise, we have provided a sample DDPG agent and demonstrated how to use it to solve an OpenAI Gym environment.  To continue your learning, you are encouraged to complete any (or all!) of the following tasks:\n",
    "- Amend the various hyperparameters and network architecture to see if you can get your agent to solve the environment faster than this benchmark implementation.  Once you build intuition for the hyperparameters that work well with this environment, try solving a different OpenAI Gym task!\n",
    "- Write your own DDPG implementation.  Use this code as reference only when needed -- try as much as you can to write your own algorithm from scratch.\n",
    "- You may also like to implement prioritized experience replay, to see if it speeds learning.  \n",
    "- The current implementation adds Ornsetein-Uhlenbeck noise to the action space.  However, it has [been shown](https://blog.openai.com/better-exploration-with-parameter-noise/) that adding noise to the parameters of the neural network policy can improve performance.  Make this change to the code, to verify it for yourself!\n",
    "- Write a blog post explaining the intuition behind the DDPG algorithm and demonstrating how to use it to solve an RL environment of your choosing.  "
   ]
  }
 ],
 "metadata": {
  "kernelspec": {
   "display_name": "drlnd 2",
   "language": "python",
   "name": "drlnd2"
  },
  "language_info": {
   "codemirror_mode": {
    "name": "ipython",
    "version": 3
   },
   "file_extension": ".py",
   "mimetype": "text/x-python",
   "name": "python",
   "nbconvert_exporter": "python",
   "pygments_lexer": "ipython3",
   "version": "3.6.6"
  }
 },
 "nbformat": 4,
 "nbformat_minor": 2
}
