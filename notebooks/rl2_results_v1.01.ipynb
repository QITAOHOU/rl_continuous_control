{
 "cells": [
  {
   "cell_type": "code",
   "execution_count": 1,
   "metadata": {},
   "outputs": [],
   "source": [
    "import gym\n",
    "import torch\n",
    "import numpy as np\n",
    "import pandas as pd\n",
    "import matplotlib.pyplot as plt\n",
    "\n",
    "from agents.TD3 import TD3\n",
    "from agents.DDPG import DDPG\n",
    "from agents.DDPG2 import DDPG2"
   ]
  },
  {
   "cell_type": "code",
   "execution_count": 2,
   "metadata": {},
   "outputs": [],
   "source": [
    "PATH = \"/Volumes/BC_Clutch/Dropbox/DeepRLND/rl_continuous_control/\"\n",
    "RESULT_PATH = PATH + \"results/\""
   ]
  },
  {
   "cell_type": "code",
   "execution_count": null,
   "metadata": {},
   "outputs": [],
   "source": [
    "result_list = {\n",
    "               \"BipedalWalker-v2_201812192036_TD3_0.npy\",\n",
    "               \"BipedalWalker-v2_201812192036_DDPG_0.npy\",\n",
    "               \"BipedalWalker-v2_201812192036_DDPG2_0.npy\"\n",
    "              }"
   ]
  },
  {
   "cell_type": "code",
   "execution_count": null,
   "metadata": {},
   "outputs": [],
   "source": [
    "def plot_result(RESULT_PATH, result_list):\n",
    "    for result in result_list:\n",
    "        data = np.load(RESULT_PATH + result)\n",
    "        label = result.split(\"_\")[-2]\n",
    "        plt.plot(np.arange(len(data)), data, label=label)\n",
    "    plt.ylabel('Reward')\n",
    "    plt.xlabel('Episode')\n",
    "    plt.title(\"Reward by Episode\")\n",
    "    plt.legend()"
   ]
  },
  {
   "cell_type": "code",
   "execution_count": null,
   "metadata": {},
   "outputs": [],
   "source": [
    "plot_result(RESULT_PATH, result_list)"
   ]
  },
  {
   "cell_type": "code",
   "execution_count": null,
   "metadata": {},
   "outputs": [],
   "source": [
    "result = pd.read_pickle(RESULT_PATH + \"BipedalWalker-v2_201812192036_ResultDict_DDPG.pkl\")\n",
    "result.keys()"
   ]
  },
  {
   "cell_type": "code",
   "execution_count": null,
   "metadata": {},
   "outputs": [],
   "source": [
    "result['TD3'].keys()"
   ]
  },
  {
   "cell_type": "code",
   "execution_count": null,
   "metadata": {},
   "outputs": [],
   "source": [
    "len(result['TD3']['scores'])"
   ]
  },
  {
   "cell_type": "code",
   "execution_count": null,
   "metadata": {},
   "outputs": [],
   "source": [
    "len(result['TD3']['evaluations'])"
   ]
  },
  {
   "cell_type": "code",
   "execution_count": null,
   "metadata": {},
   "outputs": [],
   "source": [
    "result['TD3']['clocktime']"
   ]
  },
  {
   "cell_type": "code",
   "execution_count": null,
   "metadata": {},
   "outputs": [],
   "source": [
    "def plot_result2(RESULT_PATH, result_pkl):\n",
    "    data = pd.read_pickle(RESULT_PATH + result_pkl)\n",
    "    for agent in data.keys():\n",
    "#         data = np.load(RESULT_PATH + result)\n",
    "#         label = result.split(\"_\")[-2]\n",
    "        x = range(len(data[agent]['evaluations']))\n",
    "        y = data[agent]['evaluations']\n",
    "        plt.plot(x, y, label=agent)\n",
    "    plt.ylabel('Reward')\n",
    "    plt.xlabel('Episode')\n",
    "    plt.title(\"Reward by Episode\")\n",
    "    plt.legend()"
   ]
  },
  {
   "cell_type": "code",
   "execution_count": null,
   "metadata": {},
   "outputs": [],
   "source": [
    "plot_result2(RESULT_PATH, \"BipedalWalker-v2_201812192036_ResultDict_DDPG.pkl\")"
   ]
  },
  {
   "cell_type": "code",
   "execution_count": null,
   "metadata": {},
   "outputs": [],
   "source": [
    "# result['TD3']"
   ]
  },
  {
   "cell_type": "code",
   "execution_count": null,
   "metadata": {},
   "outputs": [],
   "source": []
  },
  {
   "cell_type": "code",
   "execution_count": null,
   "metadata": {},
   "outputs": [],
   "source": []
  },
  {
   "cell_type": "markdown",
   "metadata": {},
   "source": [
    "### Run trained agent"
   ]
  },
  {
   "cell_type": "code",
   "execution_count": 3,
   "metadata": {},
   "outputs": [],
   "source": [
    "def run_agent(RESULT_PATH, env_name, agent, actor_path, critic_path):\n",
    "    env = gym.make(env_name)\n",
    "    agent = agent(env.observation_space.shape[0], env.action_space.shape[0], float(env.action_space.high[0]))\n",
    "    agent.actor.load_state_dict(torch.load(RESULT_PATH + actor_path,map_location={'cuda:0': 'cpu'}))\n",
    "    agent.critic.load_state_dict(torch.load(RESULT_PATH + critic_path,map_location={'cuda:0': 'cpu'}))\n",
    "\n",
    "    state = env.reset()\n",
    "    while True:\n",
    "        action = agent.select_action(state)\n",
    "        env.render()\n",
    "        next_state, reward, done, _ = env.step(action)\n",
    "        state = next_state\n",
    "        if done:\n",
    "            break\n",
    "\n",
    "    env.close()"
   ]
  },
  {
   "cell_type": "code",
   "execution_count": null,
   "metadata": {},
   "outputs": [],
   "source": [
    "run_agent(RESULT_PATH,\"BipedalWalker-v2\",DDPG,'DDPG-BipedalWalker-v2-0_actor.pth','DDPG-BipedalWalker-v2-0_critic.pth')"
   ]
  },
  {
   "cell_type": "code",
   "execution_count": null,
   "metadata": {},
   "outputs": [],
   "source": [
    "# run_agent(RESULT_PATH,\"BipedalWalker-v2\",DDPG2,'DDPG2-BipedalWalker-v2-0_actor.pth','DDPG2-BipedalWalker-v2-0_critic.pth')"
   ]
  },
  {
   "cell_type": "code",
   "execution_count": null,
   "metadata": {},
   "outputs": [],
   "source": [
    "run_agent(RESULT_PATH,\"BipedalWalker-v2\",TD3,'TD3-BipedalWalker-v2-0_actor.pth','TD3-BipedalWalker-v2-0_critic.pth')"
   ]
  },
  {
   "cell_type": "code",
   "execution_count": 4,
   "metadata": {},
   "outputs": [],
   "source": [
    "run_agent(RESULT_PATH,\"LunarLanderContinuous-v2\",TD3,\n",
    "          'LunarLanderContinuous-v2_201812192036_TD3_0_actor.pth',\n",
    "          'LunarLanderContinuous-v2_201812192036_TD3_0_critic.pth')"
   ]
  },
  {
   "cell_type": "code",
   "execution_count": null,
   "metadata": {},
   "outputs": [],
   "source": [
    "run_agent(RESULT_PATH,\"LunarLanderContinuous-v2\",DDPG2,\n",
    "          'LunarLanderContinuous-v2_201812192036_DDPG2_0_actor.pth',\n",
    "          'LunarLanderContinuous-v2_201812192036_DDPG2_0_critic.pth')"
   ]
  },
  {
   "cell_type": "code",
   "execution_count": null,
   "metadata": {},
   "outputs": [],
   "source": []
  },
  {
   "cell_type": "code",
   "execution_count": null,
   "metadata": {},
   "outputs": [],
   "source": []
  }
 ],
 "metadata": {
  "kernelspec": {
   "display_name": "drlnd 2",
   "language": "python",
   "name": "drlnd2"
  },
  "language_info": {
   "codemirror_mode": {
    "name": "ipython",
    "version": 3
   },
   "file_extension": ".py",
   "mimetype": "text/x-python",
   "name": "python",
   "nbconvert_exporter": "python",
   "pygments_lexer": "ipython3",
   "version": "3.6.6"
  }
 },
 "nbformat": 4,
 "nbformat_minor": 2
}
